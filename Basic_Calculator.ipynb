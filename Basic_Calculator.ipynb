{
  "nbformat": 4,
  "nbformat_minor": 0,
  "metadata": {
    "colab": {
      "provenance": [],
      "authorship_tag": "ABX9TyNfeZTedoYyOqDjnqCSZNDy",
      "include_colab_link": true
    },
    "kernelspec": {
      "name": "python3",
      "display_name": "Python 3"
    },
    "language_info": {
      "name": "python"
    }
  },
  "cells": [
    {
      "cell_type": "markdown",
      "metadata": {
        "id": "view-in-github",
        "colab_type": "text"
      },
      "source": [
        "<a href=\"https://colab.research.google.com/github/sairam796/Python_training/blob/main/Basic_Calculator.ipynb\" target=\"_parent\"><img src=\"https://colab.research.google.com/assets/colab-badge.svg\" alt=\"Open In Colab\"/></a>"
      ]
    },
    {
      "cell_type": "code",
      "source": [
        "x = 5\n",
        "y = 6\n",
        "print(x + y)"
      ],
      "metadata": {
        "colab": {
          "base_uri": "https://localhost:8080/"
        },
        "id": "4u5H2phogse1",
        "outputId": "6d17e70d-0015-4cd6-c0fb-850fc64cd3f7"
      },
      "execution_count": null,
      "outputs": [
        {
          "output_type": "stream",
          "name": "stdout",
          "text": [
            "11\n"
          ]
        }
      ]
    },
    {
      "cell_type": "code",
      "source": [
        "print(\"sairam\",796)"
      ],
      "metadata": {
        "colab": {
          "base_uri": "https://localhost:8080/"
        },
        "id": "NNL4j5tHlVEc",
        "outputId": "6b5acff6-7933-41c2-9efb-9c06f60e71f9"
      },
      "execution_count": null,
      "outputs": [
        {
          "output_type": "stream",
          "name": "stdout",
          "text": [
            "sairam 796\n"
          ]
        }
      ]
    },
    {
      "cell_type": "code",
      "source": [
        "Option = input(\"Select one of the option (1 Or 2):\")\n",
        "\n",
        "if Option == '1':\n",
        " print(\"Yes\")\n",
        "elif Option == '2':\n",
        " print(\"No\")\n",
        "else:\n",
        " print(\"invalid input\")"
      ],
      "metadata": {
        "colab": {
          "base_uri": "https://localhost:8080/"
        },
        "id": "H_DWWhrAlqPC",
        "outputId": "b086af77-1ef9-4a91-d7aa-5df3de0596e7"
      },
      "execution_count": null,
      "outputs": [
        {
          "output_type": "stream",
          "name": "stdout",
          "text": [
            "Select one of the option (1 Or 2):1\n",
            "Yes\n"
          ]
        }
      ]
    },
    {
      "cell_type": "code",
      "source": [
        "def calculator():\n",
        "    print(\"Select the type of calculation you want to do:\")\n",
        "    print(\"1. Addition\")\n",
        "    print(\"2. Subtraction\")\n",
        "    print(\"3. Multiplication\")\n",
        "    print(\"4. Division\")\n",
        "\n",
        "    choice = input(\"Enter the operation number you want to do (1/2/3/4): \")\n",
        "\n",
        "    if choice in ('1', '2', '3', '4'):\n",
        "        num1 = float(input(\"Enter first number: \"))\n",
        "        num2 = float(input(\"Enter second number: \"))\n",
        "\n",
        "        if choice == '1':\n",
        "            print(\"Result is\", num1, \"+\", num2, \"=\", num1 + num2)\n",
        "        elif choice == '2':\n",
        "            print(\"Result is\", num1, \"-\", num2, \"=\", num1 - num2)\n",
        "        elif choice == '3':\n",
        "            print(\"Result is\", num1, \"*\", num2, \"=\", num1 * num2)\n",
        "        elif choice == '4':\n",
        "            if num2 != 0:\n",
        "                print(\"Result is\", num1, \"/\", num2, \"=\", num1 / num2)\n",
        "            else:\n",
        "                print(\"Error! Division by zero is not allowed.\")\n",
        "    else:\n",
        "        print(\"Invalid input, please try again.\")\n",
        "\n",
        "calculator()"
      ],
      "metadata": {
        "colab": {
          "base_uri": "https://localhost:8080/"
        },
        "id": "74QE_9N-nu7O",
        "outputId": "3e80e968-617b-4406-866e-021e2ad61ffc"
      },
      "execution_count": null,
      "outputs": [
        {
          "output_type": "stream",
          "name": "stdout",
          "text": [
            "Select the type of calculation you want to do:\n",
            "1. Addition\n",
            "2. Subtraction\n",
            "3. Multiplication\n",
            "4. Division\n",
            "Enter the operation number you want to do (1/2/3/4): 4\n",
            "Enter first number: 9\n",
            "Enter second number: 3\n",
            "Result is 9.0 / 3.0 = 3.0\n"
          ]
        }
      ]
    }
  ]
}