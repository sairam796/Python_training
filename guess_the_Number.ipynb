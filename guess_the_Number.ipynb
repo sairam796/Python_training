{
  "nbformat": 4,
  "nbformat_minor": 0,
  "metadata": {
    "colab": {
      "provenance": [],
      "authorship_tag": "ABX9TyNOSNDrVziRLhaZUUJ49pNC",
      "include_colab_link": true
    },
    "kernelspec": {
      "name": "python3",
      "display_name": "Python 3"
    },
    "language_info": {
      "name": "python"
    }
  },
  "cells": [
    {
      "cell_type": "markdown",
      "metadata": {
        "id": "view-in-github",
        "colab_type": "text"
      },
      "source": [
        "<a href=\"https://colab.research.google.com/github/sairam796/Python_training/blob/main/guess_the_Number.ipynb\" target=\"_parent\"><img src=\"https://colab.research.google.com/assets/colab-badge.svg\" alt=\"Open In Colab\"/></a>"
      ]
    },
    {
      "cell_type": "code",
      "execution_count": null,
      "metadata": {
        "id": "Tdh9kRPcDBVm"
      },
      "outputs": [],
      "source": [
        "import random"
      ]
    },
    {
      "cell_type": "code",
      "source": [
        "print(\"Game: can you guess the Number ?\")\n",
        "\n",
        "start_point = int(input(\"please select the start point of the range: \"))\n",
        "\n",
        "end_point = int(input(\"please select the end point of the range: \"))\n",
        "\n",
        "random_number = random.randint(start_point,end_point)\n",
        "#print(random_number)\n",
        "print(f\"now you need to guess the number between {start_point} and {end_point} which the sytem has selected\")\n",
        "\n",
        "guessed_number = int(input(\"please guess the number: \"))\n",
        "\n",
        "i = random_number\n",
        "\n",
        "while i != guessed_number:\n",
        "  if i > guessed_number:\n",
        "    print(\"you have guessed it low\")\n",
        "  elif i < guessed_number:\n",
        "    print(\"you have guessed it high\")\n",
        "  guessed_number = int(input(\"please guess the number: \"))\n",
        "else:\n",
        "  print(\"Hurray!! you have guessed it right\")"
      ],
      "metadata": {
        "colab": {
          "base_uri": "https://localhost:8080/"
        },
        "id": "GS3s32CqDHA6",
        "outputId": "82e7d47b-c7cc-4e1b-d0f8-da2fa39ba7c8"
      },
      "execution_count": null,
      "outputs": [
        {
          "output_type": "stream",
          "name": "stdout",
          "text": [
            "Game: can you guess the Number ?\n",
            "please select the start point of the range: 1\n",
            "please select the end point of the range: 5\n",
            "now you need to guess the number between 1 and 5 which the sytem has selected\n",
            "please guess the number: 3\n",
            "you have guessed it low\n",
            "please guess the number: 4\n",
            "you have guessed it low\n",
            "please guess the number: 5\n",
            "Hurray!! you have guess it right\n"
          ]
        }
      ]
    }
  ]
}