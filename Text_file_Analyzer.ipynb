{
  "nbformat": 4,
  "nbformat_minor": 0,
  "metadata": {
    "colab": {
      "provenance": [],
      "authorship_tag": "ABX9TyNLE/Ra/35l1WtPOKfDEGxu",
      "include_colab_link": true
    },
    "kernelspec": {
      "name": "python3",
      "display_name": "Python 3"
    },
    "language_info": {
      "name": "python"
    }
  },
  "cells": [
    {
      "cell_type": "markdown",
      "metadata": {
        "id": "view-in-github",
        "colab_type": "text"
      },
      "source": [
        "<a href=\"https://colab.research.google.com/github/sairam796/Python_training/blob/main/Text_file_Analyzer.ipynb\" target=\"_parent\"><img src=\"https://colab.research.google.com/assets/colab-badge.svg\" alt=\"Open In Colab\"/></a>"
      ]
    },
    {
      "cell_type": "code",
      "execution_count": null,
      "metadata": {
        "colab": {
          "base_uri": "https://localhost:8080/"
        },
        "id": "30ifp8d6Ffox",
        "outputId": "6b1d7c51-476f-4faa-d6ee-4563f87deab9"
      },
      "outputs": [
        {
          "output_type": "stream",
          "name": "stdout",
          "text": [
            "Enter the path of the text file: /content/sample_text.txt\n",
            "\n",
            "------ File Analysis -------\n",
            "File Name: sample_text.txt\n",
            "Total Lines in the text file: 5\n",
            "Total words in the text file: 37\n",
            "Total characters in the text file: 215\n"
          ]
        }
      ],
      "source": [
        "import os\n",
        "\n",
        "def analyze_file(file_path):\n",
        "    try:\n",
        "        with open(file_path, 'r') as file:\n",
        "            lines = file.readlines()\n",
        "\n",
        "        line_count = len(lines)\n",
        "        word_count = 0\n",
        "        char_count = 0\n",
        "\n",
        "        for line in lines:\n",
        "          words = line.split()\n",
        "          word_count = word_count + len(words)\n",
        "          char_count = char_count + len(line)\n",
        "\n",
        "        print(\"\\n------ File Analysis -------\")\n",
        "        print(f\"File Name: {os.path.basename(file_path)}\")\n",
        "        print(f\"Total Lines in the text file: {line_count}\")\n",
        "        print(f\"Total words in the text file: {word_count}\")\n",
        "        print(f\"Total characters in the text file: {char_count}\")\n",
        "\n",
        "    except FileNotFoundError:\n",
        "        print(\"Error: File not found. Please check the path and try again.\")\n",
        "    except PermissionError:\n",
        "        print(\"Error: Permission denied. Please check the file permissions and try again.\")\n",
        "    except UnicodeDecodeError:\n",
        "        print(\"Error: Unable to decode the file. Please make sure it is a text (.txt) file and try again.\")\n",
        "    except Exception as e:\n",
        "        print(f\"An error occurred: {e}\")\n",
        "\n",
        "def text_file_analyzer():\n",
        "\n",
        "  file_path = input(\"Enter the path of the text file: \").strip()\n",
        "\n",
        "  if not file_path.lower().endswith('.txt'):\n",
        "    print(\"Error: Invalid file format. Please provide a .txt file.\")\n",
        "    return\n",
        "\n",
        "  if not os.path.exists(file_path):\n",
        "    print(\"Error: File not found. Please check the file path and try again.\")\n",
        "    return\n",
        "\n",
        "  analyze_file(file_path)\n",
        "\n",
        "text_file_analyzer()\n",
        "\n",
        "\n",
        "\n",
        "\n"
      ]
    },
    {
      "cell_type": "code",
      "source": [],
      "metadata": {
        "id": "XKjEpcO3I0Kj"
      },
      "execution_count": null,
      "outputs": []
    }
  ]
}