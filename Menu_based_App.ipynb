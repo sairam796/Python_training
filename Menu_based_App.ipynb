{
  "nbformat": 4,
  "nbformat_minor": 0,
  "metadata": {
    "colab": {
      "provenance": [],
      "authorship_tag": "ABX9TyNE919Ggj9UhAwt9C8mXo7V",
      "include_colab_link": true
    },
    "kernelspec": {
      "name": "python3",
      "display_name": "Python 3"
    },
    "language_info": {
      "name": "python"
    }
  },
  "cells": [
    {
      "cell_type": "markdown",
      "metadata": {
        "id": "view-in-github",
        "colab_type": "text"
      },
      "source": [
        "<a href=\"https://colab.research.google.com/github/sairam796/Python_training/blob/main/Menu_based_App.ipynb\" target=\"_parent\"><img src=\"https://colab.research.google.com/assets/colab-badge.svg\" alt=\"Open In Colab\"/></a>"
      ]
    },
    {
      "cell_type": "code",
      "execution_count": null,
      "metadata": {
        "colab": {
          "base_uri": "https://localhost:8080/"
        },
        "id": "IO8VbEBOWtLj",
        "outputId": "b0eb199e-4312-4ef3-cbb0-7ea88f8d19f6"
      },
      "outputs": [
        {
          "output_type": "stream",
          "name": "stdout",
          "text": [
            "-----welcome-----\n",
            "select one of the option from the menu below:\n",
            "1.Greet\n",
            "2.Multiply\n",
            "3.Exit\n",
            "select an option from the above menu:1\n",
            "Hello, Welcome to the Application\n",
            "select one of the option from the menu below:\n",
            "1.Greet\n",
            "2.Multiply\n",
            "3.Exit\n",
            "select an option from the above menu:2\n",
            "enter first number:3\n",
            "enter second number:4\n",
            "12\n",
            "select one of the option from the menu below:\n",
            "1.Greet\n",
            "2.Multiply\n",
            "3.Exit\n",
            "select an option from the above menu:3\n",
            "exiting the menu\n"
          ]
        }
      ],
      "source": [
        "\n",
        "\n",
        "print(\"-----welcome-----\")\n",
        "\n",
        "while True:\n",
        "\n",
        "\n",
        " print(\"select one of the option from the menu below:\")\n",
        " print(\"1.Greet\")\n",
        " print(\"2.Multiply\")\n",
        " print(\"3.Exit\")\n",
        "\n",
        " option = int(input(\"Please select an option from the above menu:\"))\n",
        "\n",
        " if option == 1:\n",
        "    print(\"Hello, Welcome to the Application\")\n",
        " elif option == 2:\n",
        "    num1 = int(input(\"enter first number:\"))\n",
        "    num2 = int(input(\"enter second number:\"))\n",
        "    print(num1*num2)\n",
        " elif option == 3:\n",
        "    print(\"exiting the menu\")\n",
        "    break"
      ]
    }
  ]
}